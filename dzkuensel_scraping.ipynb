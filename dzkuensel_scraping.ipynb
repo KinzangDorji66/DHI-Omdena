{
 "cells": [
  {
   "cell_type": "code",
   "execution_count": null,
   "metadata": {},
   "outputs": [],
   "source": [
    "#Libraries to be installed:\n",
    "#pip install selenium\n",
    "#pip install beautifulsoup4\n",
    "#pip install lxml\n",
    "#Chrome driver needs to be installed. https://chromedriver.chromium.org/downloads"
   ]
  },
  {
   "cell_type": "code",
   "execution_count": 1,
   "metadata": {},
   "outputs": [],
   "source": [
    "from bs4 import BeautifulSoup\n",
    "from selenium import webdriver"
   ]
  },
  {
   "cell_type": "code",
   "execution_count": 10,
   "metadata": {},
   "outputs": [],
   "source": [
    "options = webdriver.ChromeOptions() \n",
    "options.add_argument(\"start-maximized\")\n",
    "options.add_experimental_option(\"excludeSwitches\", [\"enable-automation\"])\n",
    "options.add_experimental_option('useAutomationExtension', False)"
   ]
  },
  {
   "cell_type": "code",
   "execution_count": 13,
   "metadata": {},
   "outputs": [
    {
     "name": "stdout",
     "output_type": "stream",
     "text": [
      "<html lang=\"en-US\"><head>\n",
      "    <title>Just a moment...</title>\n",
      "    <meta http-equiv=\"Content-Type\" content=\"text/html; charset=UTF-8\">\n",
      "    <meta http-equiv=\"X-UA-Compatible\" content=\"IE=Edge\">\n",
      "    <meta name=\"robots\" content=\"noindex,nofollow\">\n",
      "    <meta name=\"viewport\" content=\"width=device-width,initial-scale=1\">\n",
      "    <link href=\"/cdn-cgi/styles/challenges.css\" rel=\"stylesheet\">\n",
      "    <meta http-equiv=\"refresh\" content=\"35\">\n",
      "\n",
      "<script src=\"/cdn-cgi/challenge-platform/h/g/orchestrate/jsch/v1?ray=74a03f287d27a8d6\"></script></head>\n",
      "<body class=\"no-js\">\n",
      "    <div class=\"main-wrapper\" role=\"main\">\n",
      "    <div class=\"main-content\">\n",
      "        <h1 class=\"zone-name-title h1\">\n",
      "            \n",
      "            dzkuensel.com\n",
      "        </h1>\n",
      "        <h2 class=\"h2\" id=\"challenge-running\">\n",
      "            Checking if the site connection is secure\n",
      "        </h2><div id=\"challenge-stage\" style=\"display: none;\"></div><div id=\"challenge-spinner\" class=\"spacer loading-spinner\" style=\"display: block; visibility: visible;\"><div class=\"lds-ring\"><div></div><div></div><div></div><div></div></div></div>\n",
      "        <noscript>\n",
      "            <div id=\"challenge-error-title\">\n",
      "                <div class=\"h2\">\n",
      "                    <span class=\"icon-wrapper\">\n",
      "                        <div class=\"heading-icon warning-icon\"></div>\n",
      "                    </span>\n",
      "                    <span id=\"challenge-error-text\">\n",
      "                        Enable JavaScript and cookies to continue\n",
      "                    </span>\n",
      "                </div>\n",
      "            </div>\n",
      "        </noscript>\n",
      "        <div id=\"trk_jschal_js\" style=\"display:none;background-image:url('/cdn-cgi/images/trace/jsch/nojs/transparent.gif?ray=74a03f287d27a8d6')\"></div>\n",
      "        <div id=\"challenge-body-text\" class=\"core-msg spacer\">\n",
      "            dzkuensel.com needs to review the security of your connection before proceeding.\n",
      "        </div><div id=\"challenge-fact-wrapper\" class=\"fact spacer hidden\" style=\"display: block; visibility: visible;\"><span class=\"fact-title\">Did you know</span> <span id=\"challenge-fact\" class=\"body-text\">the first botnet in 2003 took over 500-1000 devices? Today, botnets take over millions of devices at once.</span></div><div id=\"challenge-explainer-expandable\" class=\"hidden expandable body-text spacer\" style=\"display: none;\"><div class=\"expandable-title\" id=\"challenge-explainer-summary\"><button class=\"expandable-summary-btn\" id=\"challenge-explainer-btn\" type=\"button\">Why am I seeing this page?<span class=\"caret-icon-wrapper\"> <div class=\"caret-icon\"></div> </span> </button> </div> <div class=\"expandable-details\" id=\"challenge-explainer-details\">Requests from malicious bots can pose as legitimate traffic. Occasionally, you may see this page while the site ensures that the connection is secure.</div></div><div id=\"challenge-success\" style=\"display: none;\"><div class=\"h2\"><span class=\"icon-wrapper\"><img class=\"heading-icon\" alt=\"Success icon\" src=\"data:image/png;base64,iVBORw0KGgoAAAANSUhEUgAAADQAAAA0CAMAAADypuvZAAAANlBMVEUAAAAxMTEwMDAxMTExMTEwMDAwMDAwMDAxMTExMTExMTEwMDAwMDAxMTExMTEwMDAwMDAxMTHB9N+uAAAAEXRSTlMA3zDvfyBAEJC/n3BQz69gX7VMkcMAAAGySURBVEjHnZZbFoMgDEQJiDzVuv/NtgbtFGuQ4/zUKpeMIQbUhXSKE5l1XSn4pFWHRm/WShT1HRLWC01LGxFEVkCc30eYkLJ1Sjk9pvkw690VY6k8DWP9OM9yMG0Koi+mi8XA36NXmW0UXra4eJ3iwHfrfXVlgL0NqqGBHdqfeQhMmyJ48WDuKP81h3+SMPeRKkJcSXiLUK4XTHCjESOnz1VUXQoc6lgi2x4cI5aTQ201Mt8wHysI5fc05M5c81uZEtHcMKhxZ7iYEty1GfhLvGKpm+EYkdGxm1F5axmcB93DoORIbXfdN7f+hlFuyxtDP+sxtBnF43cIYwaZAWRgzxIoiXEMESoPlMhwLRDXeK772CAzXEdBRV7cmnoVBp0OSlyGidEzJTFq5hhcsA5388oSGM6b5p+qjpZrBlMS9xj4AwXmz108ukU1IomM3ceiW0CDwHCqp1NjAqXlFrbga+xuloQJ+tuyfbIBPNpqnmxqT7dPaOnZqBfhSBCteJAxWj58zLk2xgg+SPGYM6dRO6WczSnIxxwEExRaO+UyCUhbOp7CGQ+kxSUfNtLQFC+Po29vvy7jj4y0yAAAAABJRU5ErkJggg==\"></span>Connection is secure</div><div class=\"core-msg spacer\">Proceeding...</div></div>\n",
      "        <form id=\"challenge-form\" action=\"/?__cf_chl_f_tk=KuTu3ubE.Wfv4QBpcT9dNavv7dl6Fg0yarJKx3tZQCM-1663065437-0-gaNycGzNCFE\" method=\"POST\" enctype=\"application/x-www-form-urlencoded\">\n",
      "            <input type=\"hidden\" name=\"md\" value=\"YIBlRJGrbheXvGYIZ871eJJQ3cB4NMJlmBRb8qM52zk-1663065437-0-Ad8854rf7FeBnAPvglPswKtcsJbsKZOMT_peHZ3GPiqYUOMgdV2I3ASRA6VP1eVpP6aw5scVJeaapWcspYzIS9ESo2CgxgbG4eVjQPlGU1-KaM1XCN3kDba359zh5sZkncIdym3ASLQn9NWAG0TTm2nikYJvHTTF1ZplgRt55ctg-QVCnPhUJwmsFqrsCiplibh0SGhRXeldkIaS3-ow1fAvpA3BURMZEcGja1VNLn5YECKxt7kp9b2e5G5JxK_QtGIBYWra3NaVHOtKZdscJXlcGYRRvK2QN1zFnA-oZwzE9mggRlQi13GbASzX50OeEwiXeFcvaBRbVCsgfONbdXDv6BqjP5pT-P1zuHRQ0W2yupFxxWr7yr8RaRnZq_SegXv8GjkL5gICk8NYydEDFGg2WLZIkq2S3sE9tujZCAJOQBS_jyzhaeUNOe-URch3poHpujQTj1EgxkaeV8njrN3Xi2dJ929FHvoXAMXtm96Turzla6JqPOjurxPWLXVBxOWFIpvHx_sB-txmHLlawpBj1ftEiMnL1TqCLiOjJPYc\">\n",
      "            <input type=\"hidden\" name=\"r\" value=\"wO3RVLSZDWBxNO59n6GL_YdOcWLMrZMY4czGMCGx8Dw-1663065437-0-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\">\n",
      "        <span style=\"display: none;\"><span class=\"text-gray-600\" data-translate=\"error\">error code: 1020</span></span></form>\n",
      "    </div>\n",
      "</div>\n",
      "<script>\n",
      "    (function(){\n",
      "        window._cf_chl_opt={\n",
      "            cvId: '2',\n",
      "            cType: 'non-interactive',\n",
      "            cNounce: '74769',\n",
      "            cRay: '74a03f287d27a8d6',\n",
      "            cHash: '355639560032b83',\n",
      "            cUPMDTk: \"\\/?__cf_chl_tk=KuTu3ubE.Wfv4QBpcT9dNavv7dl6Fg0yarJKx3tZQCM-1663065437-0-gaNycGzNCFE\",\n",
      "            cFPWv: 'g',\n",
      "            cTTimeMs: '1000',\n",
      "            cTplV: 4,\n",
      "            cTplB: 'cf',\n",
      "            cRq: {\n",
      "                ru: 'aHR0cHM6Ly9kemt1ZW5zZWwuY29tLw==',\n",
      "                ra: 'TW96aWxsYS81LjAgKFdpbmRvd3MgTlQgMTAuMDsgV2luNjQ7IHg2NCkgQXBwbGVXZWJLaXQvNTM3LjM2IChLSFRNTCwgbGlrZSBHZWNrbykgQ2hyb21lLzEwNS4wLjAuMCBTYWZhcmkvNTM3LjM2',\n",
      "                rm: 'R0VU',\n",
      "                d: '6IdTm1ayTv7uzB83cgDNDccMP5nMkdP26x5WAXtq26djvZIflVz1Y9ucUqejW16taIEVNC27g71XtOPXUiEPZ2GDnERxbJM+nQdC/gVm3NhwLJKL+xRCTRokGUr5Kqjadz6k+R7c2unl0fEuV9B5fGXOSbv3pBbUjd3fBc+DteU2GEUH++uBhtnHmTNoASb3wWVAqqr7hS4JzIkSjMB94kxteBnuzzWghgA1+5qY0BC/z4D78j059aLdc333ILzgRYo14E+6kb6T6qTVL7exz8hpC4sy800sTvgFcW8UjH6+Z1dRXhVhkCT3iSr1wNBIuJ9Q05XYrElCCXmOMveEq5lu6M2hWEra+W2/cpfAIgIvugSmWwdXsnNiO41X/mHu+8E5w+LGTlE+bbR0ytKGilW4l1CtkZ8fIKVAoz1Ye0tNVsThuhzgbwFPkieqFTG5gUjfqUw6IoWTN6jy8o5TbEVxMuoSYhAs8C/nsiFv+DiE63v2LmUsszqwW1HY449LPQ4HtYr8TfQBm+fxN24TrHJsaUr+TkEuFJBZuWZ6HHQ=',\n",
      "                t: 'MTY2MzA2NTQzNy41MTMwMDA=',\n",
      "                m: 'Yx4Q9cVaGIQPtKah24ZMBTYIeu5TESYXL2q5zJkKjoE=',\n",
      "                i1: '29qsVIGB5ufktTmdeQqbIA==',\n",
      "                i2: '3w5VrC+aqPXkAmH+w5EMCQ==',\n",
      "                zh: 'aMxuzbxLRwAwwP6bQzYIb8J29SweDaij4l/XSfSUKDw=',\n",
      "                uh: 'hxTM763E8imxylwP68hH4R/wc4ym4Rsx7GMmWlye0AQ=',\n",
      "                hh: 'vyuu5st7kByaV3ptqjA0okp50ycsgPt20L7Zq5VY00A=',\n",
      "            }\n",
      "        };\n",
      "        var trkjs = document.createElement('img');\n",
      "        trkjs.setAttribute('src', '/cdn-cgi/images/trace/jsch/js/transparent.gif?ray=74a03f287d27a8d6');\n",
      "        trkjs.setAttribute('style', 'display: none');\n",
      "        document.body.appendChild(trkjs);\n",
      "        var cpo = document.createElement('script');\n",
      "        cpo.src = '/cdn-cgi/challenge-platform/h/g/orchestrate/jsch/v1?ray=74a03f287d27a8d6';\n",
      "        window._cf_chl_opt.cOgUHash = location.hash === '' && location.href.indexOf('#') !== -1 ? '#' : location.hash;\n",
      "        window._cf_chl_opt.cOgUQuery = location.search === '' && location.href.slice(0, -window._cf_chl_opt.cOgUHash.length).indexOf('?') !== -1 ? '?' : location.search;\n",
      "        if (window.history && window.history.replaceState) {\n",
      "            var ogU = location.pathname + window._cf_chl_opt.cOgUQuery + window._cf_chl_opt.cOgUHash;\n",
      "            history.replaceState(null, null, \"\\/?__cf_chl_rt_tk=KuTu3ubE.Wfv4QBpcT9dNavv7dl6Fg0yarJKx3tZQCM-1663065437-0-gaNycGzNCFE\" + window._cf_chl_opt.cOgUHash);\n",
      "            cpo.onload = function() {\n",
      "                history.replaceState(null, null, ogU);\n",
      "            };\n",
      "        }\n",
      "        document.getElementsByTagName('head')[0].appendChild(cpo);\n",
      "    }());\n",
      "</script><img src=\"/cdn-cgi/images/trace/jsch/js/transparent.gif?ray=74a03f287d27a8d6\" style=\"display: none\">\n",
      "\n",
      "    <div class=\"footer\" role=\"contentinfo\">\n",
      "        <div class=\"footer-inner\">\n",
      "            <div class=\"clearfix diagnostic-wrapper\">\n",
      "                <div class=\"ray-id\">Ray ID: <code>74a03f287d27a8d6</code></div>\n",
      "            </div>\n",
      "            <div class=\"text-center\">Performance &amp; security by <a rel=\"noopener noreferrer\" href=\"https://www.cloudflare.com?utm_source=challenge&amp;utm_campaign=j\" target=\"_blank\">Cloudflare</a></div>\n",
      "        </div>\n",
      "    </div>\n",
      "\n",
      "\n",
      "<span id=\"trk_jschal_js\"></span></body></html>\n"
     ]
    }
   ],
   "source": [
    "url = 'https://dzkuensel.com/'\n",
    "driver = webdriver.Chrome(options=options, executable_path=r\"C:\\Program Files (x86)\\chromedriver.exe\")\n",
    "driver.get(url)\n",
    "print(driver.page_source)"
   ]
  },
  {
   "cell_type": "code",
   "execution_count": 7,
   "metadata": {},
   "outputs": [],
   "source": [
    "soup = BeautifulSoup(driver.page_source, 'lxml')"
   ]
  }
 ],
 "metadata": {
  "kernelspec": {
   "display_name": "venv",
   "language": "python",
   "name": "venv"
  },
  "language_info": {
   "codemirror_mode": {
    "name": "ipython",
    "version": 3
   },
   "file_extension": ".py",
   "mimetype": "text/x-python",
   "name": "python",
   "nbconvert_exporter": "python",
   "pygments_lexer": "ipython3",
   "version": "3.7.4"
  }
 },
 "nbformat": 4,
 "nbformat_minor": 2
}
